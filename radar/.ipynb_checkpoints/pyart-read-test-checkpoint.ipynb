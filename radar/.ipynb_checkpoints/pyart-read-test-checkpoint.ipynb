{
 "cells": [
  {
   "cell_type": "code",
   "execution_count": 13,
   "metadata": {
    "collapsed": false
   },
   "outputs": [],
   "source": [
    "%%bash\n",
    "# ls -lh /data/KTAL/Ka2/20150629/raw/"
   ]
  },
  {
   "cell_type": "code",
   "execution_count": 2,
   "metadata": {
    "collapsed": false
   },
   "outputs": [],
   "source": [
    "import pyart\n",
    "import numpy as np"
   ]
  },
  {
   "cell_type": "code",
   "execution_count": 4,
   "metadata": {
    "collapsed": false
   },
   "outputs": [],
   "source": [
    "radar=pyart.io.read_sigmet('/data/KTAL/Ka2/20150629/raw/Ka2150629221426.RAW7A3V')\n",
    "# print radar.latitude, radar.longitude, radar.altitude"
   ]
  },
  {
   "cell_type": "code",
   "execution_count": 5,
   "metadata": {
    "collapsed": false
   },
   "outputs": [
    {
     "name": "stderr",
     "output_type": "stream",
     "text": [
      ":0: FutureWarning: IPython widgets are experimental and may change in the future.\n"
     ]
    }
   ],
   "source": [
    "from IPython.html import widgets \n",
    "from IPython.display import display"
   ]
  },
  {
   "cell_type": "code",
   "execution_count": 6,
   "metadata": {
    "collapsed": false
   },
   "outputs": [],
   "source": [
    "import netCDF4\n",
    "\n",
    "def diagnose_sweep_time_range(radar):\n",
    "    units = radar.time['units']\n",
    "    calendar = radar.time['calendar']\n",
    "    times = [radar.time['data'][sl] for sl in radar.iter_slice()]\n",
    "    swp_start_times = [netCDF4.num2date(t.min(), units, calendar) for t in times]\n",
    "    swp_end_times = [netCDF4.num2date(t.max(), units, calendar) for t in times]\n",
    "    return swp_start_times, swp_end_times\n",
    "\n",
    "def diagnose_vcp(radar):\n",
    "    # swp_start = radar.sweep_start_ray_index['data']\n",
    "    # swp_end = radar.sweep_end_ray_index['data']+1\n",
    "    if 'ppi' in radar.scan_type.lower():\n",
    "        angles = [np.median(el) for el in radar.iter_elevation()]\n",
    "    else:\n",
    "        angles = [np.median(az) for az in radar.iter_azimuth()]\n",
    "    return angles"
   ]
  },
  {
   "cell_type": "code",
   "execution_count": 7,
   "metadata": {
    "collapsed": false
   },
   "outputs": [],
   "source": [
    "import matplotlib.pyplot as plt\n",
    "\n",
    "field_range_defaults_ka = {\n",
    "    'reflectivity':[-32,32],\n",
    "    'velocity':[-12.9,12.9],\n",
    "    'spectrum_width':[0.0,1.0],\n",
    "    'total_power':[-30, 40]\n",
    "}\n",
    "field_range_defaults = field_range_defaults_ka\n",
    "        \n",
    "class RadarSelection(object):\n",
    "    def __init__(self, radar, sweep_id=0, field_id='reflectivity'):\n",
    "        \"\"\" This class is used by the RadarWidget, which has an interface for\n",
    "            selecting a sweep, to maintain the current selected radar data.\n",
    "        \n",
    "            It decouples the radar widget view from the data selection operation\n",
    "            so that radar data can be selected programmatically as well.\n",
    "        \"\"\"\n",
    "        \n",
    "        self.radar=radar\n",
    "        self._field_range_history = field_range_defaults.copy()\n",
    "        \n",
    "        self.sweep_id = sweep_id\n",
    "        self.field_id = field_id\n",
    "        self.field_range = self._field_range_history[field_id]\n",
    "\n",
    "    def __str__(self):\n",
    "        rep = \"{0}, {1}, {2}\".format(self.field_id, self.field_range, self.sweep_id)\n",
    "        return rep\n",
    "\n",
    "    @property\n",
    "    def sweep_id(self):\n",
    "        return self._sweep_id\n",
    "\n",
    "    @sweep_id.setter\n",
    "    def sweep_id(self, value):\n",
    "        self._sweep_id = int(value)\n",
    "\n",
    "\n",
    "    @property\n",
    "    def field_id(self):\n",
    "        return self._field_id\n",
    "\n",
    "    @field_id.setter\n",
    "    def field_id(self, value):\n",
    "        self._field_id = value\n",
    "        try:\n",
    "            self.field_range = self._field_range_history[self._field_id]\n",
    "        except KeyError:\n",
    "            print \"No default range for field {0}. Setting to a wide range.\".format(value)\n",
    "            self.field_range = [-100.0, 100.0]\n",
    "\n",
    "\n",
    "\n",
    "    @property\n",
    "    def field_range(self):\n",
    "        return self._field_range\n",
    "\n",
    "    @field_range.setter\n",
    "    def field_range(self, value):\n",
    "        if len(value) <> 2:\n",
    "            raise ValueError, \"Must be two values in range.\"\n",
    "        self._field_range = value\n",
    "        self._field_range_history[self.field_id] = self._field_range\n",
    "\n",
    "\n",
    "class RadarWidget(object):\n",
    "    def __init__(self, radar, on_scan_changed=None):\n",
    "        \"\"\" Expects a PyART radar object\"\"\"\n",
    "        \n",
    "        self.on_scan_changed = on_scan_changed\n",
    "        \n",
    "        self.radar=radar\n",
    "        self.radar_selection = RadarSelection(self.radar)\n",
    "        self.__make_location_widget()\n",
    "        self.__make_sweep_stats_widget()\n",
    "        self.__make_scan_select_widget()\n",
    "        \n",
    "        self.__make_master_widget()\n",
    "        self.update()\n",
    "        self.scan_changed()\n",
    "        \n",
    "    def __make_master_widget(self):        \n",
    "        row0 = (self.w_location, \n",
    "                self.w_stats,\n",
    "               )\n",
    "        row1 = (self.w_scan_select,\n",
    "               )\n",
    "        self.w_location.width = '50%'\n",
    "        self.w_stats.width = '50%'\n",
    "        self.w_scan_select.width = '50%'\n",
    "                    \n",
    "        w_row0 = widgets.HBox(children=row0)\n",
    "        w_row1 = widgets.HBox(children=row1)\n",
    "\n",
    "        children = (w_row0, w_row1)\n",
    "        self.master_widget = widgets.VBox(children = children)\n",
    "        \n",
    "    def scan_changed(self, defer=False):\n",
    "        if defer == False:\n",
    "            if self.on_scan_changed is not None:\n",
    "                self.on_scan_changed()\n",
    "\n",
    "    def update(self):\n",
    "        \"\"\" Refresh data in boxes from radar object \"\"\"\n",
    "        self._update_location_widget()\n",
    "        self._update_sweep_stats_widget()\n",
    "        self._update_scan_select_widget()\n",
    "        self.radar_selection.field_id = self.w_field_choice.value\n",
    "        self.w_field_min.value, self.w_field_max.value = self.radar_selection.field_range\n",
    "#         self.radar_selection.field_range = [self.w_field_min.value, self.w_field_max.value]\n",
    "\n",
    "\n",
    "    # ----- Location  -----\n",
    "    \n",
    "    def _update_location_widget(self):\n",
    "        self.w_ctrlon.value = self.radar.longitude['data'][0]\n",
    "        self.w_ctrlat.value = self.radar.latitude['data'][0]\n",
    "        self.w_ctralt.value = self.radar.altitude['data'][0]\n",
    "        \n",
    "    def _radar_location_changed(self):\n",
    "        self.radar.longitude['data'][0] = self.w_ctrlon.value\n",
    "        self.radar.latitude['data'][0] = self.w_ctrlat.value\n",
    "        self.radar.altitude['data'][0] = self.w_ctralt.value\n",
    "        \n",
    "    def __make_location_widget(self):\n",
    "        self.w_ctrlon = widgets.FloatText(description='Lon')\n",
    "        self.w_ctrlat = widgets.FloatText(description='Lat')\n",
    "        self.w_ctralt = widgets.FloatText(description='Alt')\n",
    "\n",
    "        children = (self.w_ctrlon, self.w_ctrlat, self.w_ctralt)\n",
    "        self.w_location = widgets.VBox(children = children)\n",
    "\n",
    "    # ----- Info box / stats readout -----\n",
    "    \n",
    "    def _update_sweep_stats_widget(self):\n",
    "        metadata = \"Gates: {0}, Rays: {1}, Sweeps: {2} \\nScan Type: {3}, {4}\\nBeamwidth: {5}\"\n",
    "        \n",
    "        stats = metadata.format(\n",
    "                    self.radar.ngates, self.radar.nrays, self.radar.nsweeps,\n",
    "                    self.radar.scan_type, self.radar.sweep_mode['data'][0], \n",
    "                    self.radar.instrument_parameters['radar_beam_width_h']['data'][0])\n",
    "        self.w_sweep_stats.value = stats\n",
    "        \n",
    "    def __make_sweep_stats_widget(self):\n",
    "        self.w_sweep_stats = widgets.Textarea()\n",
    "        \n",
    "        children = (self.w_sweep_stats,)\n",
    "        self.w_stats = widgets.Box(children = children)\n",
    "\n",
    "    # ----- Scan Selection Parameters -----\n",
    "        \n",
    "    def _update_scan_select_widget(self, time_format = '%H%M:%S'):\n",
    "        self.w_field_choice.options = self.radar.fields.keys()\n",
    "        vcp = diagnose_vcp(self.radar)\n",
    "        starts, ends = diagnose_sweep_time_range(self.radar)\n",
    "        angles = [u'{0}: {1:6.2f}°, {2} - {3}'.format(ai, ang, \n",
    "                                                      t0.strftime(time_format), \n",
    "                                                      t1.strftime(time_format)) \n",
    "                  for ai, (ang, t0, t1) in enumerate(zip(vcp, starts, ends))]\n",
    "#         angles = [str(ang) for ang in diagnose_vcp(ka1)]\n",
    "        self.w_angle_choice.options = angles\n",
    "\n",
    "    \n",
    "    def _scan_selected(self, name, value):\n",
    "        swp_id = int(value.split(':')[0])\n",
    "        self.radar_selection.sweep_id = swp_id\n",
    "        self.scan_changed()\n",
    "    def _field_selected(self, name, value):\n",
    "        self.radar_selection.field_id = value\n",
    "        self.w_field_min.value = self.radar_selection.field_range[0]\n",
    "        self.w_field_max.value = self.radar_selection.field_range[1]\n",
    "        self.scan_changed()\n",
    "    def _range_min_changed(self, name, value):\n",
    "        self.radar_selection.field_range[0] = value\n",
    "        self.scan_changed(defer=True)\n",
    "    def _range_max_changed(self, name, value):\n",
    "        self.radar_selection.field_range[1] = value\n",
    "        self.scan_changed(defer=True)\n",
    "    def __make_scan_select_widget(self):\n",
    "        self.w_field_choice = widgets.Select(description='Field') \n",
    "        self.w_field_min  = widgets.FloatText(description = 'Range')\n",
    "        self.w_field_max  = widgets.FloatText()\n",
    "        self.w_field_range_box = widgets.HBox(children=(self.w_field_min, self.w_field_max))\n",
    "        self.w_angle_choice = widgets.Select(description='Angle')\n",
    "        \n",
    "        self.w_angle_choice.on_trait_change(self._scan_selected, 'value')\n",
    "        self.w_field_choice.on_trait_change(self._field_selected, 'value')\n",
    "        self.w_field_min.on_trait_change(self._range_min_changed, 'value')\n",
    "        self.w_field_max.on_trait_change(self._range_max_changed, 'value')\n",
    "\n",
    "        children = (widgets.VBox(children=(self.w_field_choice,\n",
    "                                           self.w_field_range_box)),\n",
    "                    self.w_angle_choice)\n",
    "        self.w_scan_select = widgets.HBox(children = children)\n",
    "\n",
    "\n"
   ]
  },
  {
   "cell_type": "code",
   "execution_count": 8,
   "metadata": {
    "collapsed": false
   },
   "outputs": [
    {
     "name": "stdout",
     "output_type": "stream",
     "text": [
      "No default range for field normalized_coherent_power. Setting to a wide range.\n",
      "No default range for field total_power. Setting to a wide range.\n"
     ]
    }
   ],
   "source": [
    "class RadarSweepView(object):\n",
    "    def __init__(self, radar_selection):\n",
    "        self.radar_selection = radar_selection\n",
    "        self.fig = plt.figure()\n",
    "        self.display = pyart.graph.RadarDisplay(self.radar_selection.radar)\n",
    "        plt.show(block=False)        \n",
    "    def update(self):\n",
    "        self.fig.clf()\n",
    "        field_range = self.radar_selection.field_range\n",
    "        field_id = self.radar_selection.field_id\n",
    "        sweep_id = self.radar_selection.sweep_id\n",
    "        self.display.plot(field_id, sweep=sweep_id, \n",
    "                          vmin=field_range[0], vmax=field_range[1],\n",
    "                          fig = self.fig)\n",
    "        self.fig.canvas.draw()\n",
    "\n",
    "class RadarSweepViewWidget(object):\n",
    "    def __init__(self, radar_sweep_view):\n",
    "        self.radar_sweep_view = radar_sweep_view\n",
    "        self.w_draw_widget = widgets.Button(description='Draw')\n",
    "        self.w_draw_widget.on_click(self.update)\n",
    "        children = (self.w_draw_widget,)\n",
    "        self.master_widget = widgets.HBox(children=children)\n",
    "    def update(self, value):\n",
    "        self.radar_sweep_view.update()\n",
    "\n",
    "radar_widget = RadarWidget(radar)\n",
    "view = RadarSweepView(radar_widget.radar_selection)\n",
    "view_widget = RadarSweepViewWidget(view)\n",
    "radar_widget.on_scan_changed = view.update\n",
    "display(radar_widget.master_widget)\n",
    "display(view_widget.master_widget)\n",
    "view.update()"
   ]
  },
  {
   "cell_type": "code",
   "execution_count": 16,
   "metadata": {
    "collapsed": false
   },
   "outputs": [],
   "source": [
    "view.update()"
   ]
  },
  {
   "cell_type": "code",
   "execution_count": null,
   "metadata": {
    "collapsed": false
   },
   "outputs": [],
   "source": []
  },
  {
   "cell_type": "code",
   "execution_count": null,
   "metadata": {
    "collapsed": true
   },
   "outputs": [],
   "source": []
  }
 ],
 "metadata": {
  "kernelspec": {
   "display_name": "Python 2",
   "language": "python",
   "name": "python2"
  },
  "language_info": {
   "codemirror_mode": {
    "name": "ipython",
    "version": 2
   },
   "file_extension": ".py",
   "mimetype": "text/x-python",
   "name": "python",
   "nbconvert_exporter": "python",
   "pygments_lexer": "ipython2",
   "version": "2.7.10"
  }
 },
 "nbformat": 4,
 "nbformat_minor": 0
}
