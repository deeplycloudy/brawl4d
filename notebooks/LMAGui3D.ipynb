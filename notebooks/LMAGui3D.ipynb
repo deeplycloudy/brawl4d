{
 "cells": [
  {
   "cell_type": "markdown",
   "metadata": {},
   "source": [
    "Reproducible LMA research with the IPython notebook and brawl4d\n",
    "===============================================================\n",
    "\n",
    "This notebook demonstrates how to display data included in the lmatools repository.\n",
    "\n",
    "If you haven't yet, process and view sample data included with lmatools\n",
    "```\n",
    "python ~/code/lmatools/testing/test_sklearn.py /path/to/output/files/\n",
    "```\n",
    "Then, edit the data_path in the second cell to include `/path/to/output/files/` as defined above. Run all the cells prior to the \"Charge Analysis\" and try interacting with the plot. You should see some data.\n"
   ]
  },
  {
   "cell_type": "code",
   "execution_count": 5,
   "metadata": {
    "collapsed": true
   },
   "outputs": [],
   "source": [
    "%matplotlib qt4\n",
    "# import matplotlib\n",
    "# matplotlib.use('nbagg')\n",
    "#import matplotlib.pyplot as plt\n",
    "from brawl4d.brawl4d import B4D_startup, redraw\n",
    "import os"
   ]
  },
  {
   "cell_type": "code",
   "execution_count": 8,
   "metadata": {
    "collapsed": false
   },
   "outputs": [],
   "source": [
    "data_path = '/data/tmp/flash_sort_test/'\n",
    "lma_file = os.path.join(data_path, 'h5_files/2014/May/26/LYLOUT_140526_094000_0600.dat.flash.h5')"
   ]
  },
  {
   "cell_type": "code",
   "execution_count": 9,
   "metadata": {
    "collapsed": false
   },
   "outputs": [],
   "source": [
    "os.path.join?"
   ]
  },
  {
   "cell_type": "markdown",
   "metadata": {},
   "source": [
    "In the cell below, note that the basedate has been set to match the dataset we specified above.\n",
    "\n",
    "If you are not using data from the WTLMA, then you'll also need to pass <code>ctr_lon=value</code> and <code>ctr_lat=value</code> to B4D_startup."
   ]
  },
  {
   "cell_type": "code",
   "execution_count": 10,
   "metadata": {
    "collapsed": false
   },
   "outputs": [],
   "source": [
    "from datetime import datetime\n",
    "panels = B4D_startup(basedate=datetime(2014,5,26), ctr_lat=33.5, ctr_lon=-101.5)"
   ]
  },
  {
   "cell_type": "code",
   "execution_count": 11,
   "metadata": {
    "collapsed": false
   },
   "outputs": [],
   "source": [
    "import matplotlib.pyplot as plt; plt.show()"
   ]
  },
  {
   "cell_type": "markdown",
   "metadata": {},
   "source": [
    "Below, set a valid path to <code>lma_file</code>. IPython will tab-complete paths, like the shell."
   ]
  },
  {
   "cell_type": "code",
   "execution_count": 12,
   "metadata": {
    "collapsed": false
   },
   "outputs": [
    {
     "name": "stdout",
     "output_type": "stream",
     "text": [
      "found flash data\n"
     ]
    }
   ],
   "source": [
    "from brawl4d.LMA.controller import LMAController\n",
    "lma_ctrl = LMAController()\n",
    "d, post_filter_brancher, scatter_ctrl, charge_lasso = lma_ctrl.load_hdf5_to_panels(panels, lma_file)"
   ]
  },
  {
   "cell_type": "code",
   "execution_count": 16,
   "metadata": {
    "collapsed": false
   },
   "outputs": [
    {
     "data": {
      "text/plain": [
       "(-130, 20, -10, 140)"
      ]
     },
     "execution_count": 16,
     "metadata": {},
     "output_type": "execute_result"
    }
   ],
   "source": [
    "panels.panels['tz'].axis((9*3600 + 40*60, 9*3600 + 42*60, 1, 15))\n",
    "panels.panels['xy'].axis((-130, 20, -10, 140))"
   ]
  },
  {
   "cell_type": "code",
   "execution_count": 14,
   "metadata": {
    "collapsed": false
   },
   "outputs": [],
   "source": [
    "from brawl4d.LMA.widgets import LMAwidgetController\n",
    "from IPython.display import display\n",
    "from brawl4d.LMA.controller import LMAController\n",
    "\n",
    "lma_tools = LMAwidgetController(panels, lma_ctrl, scatter_ctrl, charge_lasso, d)\n",
    "display(lma_tools.tools_popup)\n"
   ]
  },
  {
   "cell_type": "markdown",
   "metadata": {},
   "source": [
    "The cell above contains and combines all functions of Brawl4d into a single .py file. This allows all tools to be activiated simultaneously, while also enabling a centralized container for all active widgets for convienence.\n",
    "\n",
    "<b><u>LMA Tools Contained:</u></b>\n",
    "\n",
    "<i>Number of Stations:</i> Specify accordingly with data file (min=1; max=11)\n",
    "\n",
    "<i>Max Chi2:</i>           Values for chi2 obtained from the data file (min=0.0; max=1.0)\n",
    "\n",
    "<i>Charge Selection:</i>   Selection for Negative (-1), Neutral (0), and Positive (1) charge for charge selection and analyzation in the               browser. The draw button activates the lasso tool                             enabling charge selection; re-clicking the draw button is                     necessary upon each selection made.\n",
    "\n",
    "<i>Color By:</i>           Allows the display of LMA data by chi2, time, or charge; selecting one will redraw the plot in the browser.\n",
    "\n",
    "<i>Animation Time:</i>     Allows for animation of the LMA data in the browser for charge polarity determination made by Charge Selection.            The slider allows the user to select a desired time for                       total animation duration (min=1s, max=30s). Clicking                         Animate will then animate the data after a desired time                       has been selected.\n"
   ]
  },
  {
   "cell_type": "markdown",
   "metadata": {},
   "source": [
    "Zoom in on a few cells of interest. The smaller, western and northern cells here are anomalously electrified, while the larger cluster is normally electrified."
   ]
  },
  {
   "cell_type": "markdown",
   "metadata": {},
   "source": [
    "<script>\n",
    "import jsondata = tools_popup\n",
    "js = \"\"\"window.audiencePopup.data = JSON.parse('{0}');\"\"\".format(json.dumps(data))\n",
    "display(Javascript(js))\n",
    "</script>"
   ]
  },
  {
   "cell_type": "markdown",
   "metadata": {},
   "source": [
    "Charge analysis\n",
    "---------------\n",
    "It's possible to use a lasso to classify charge regions inferred from LMA data. Set the polarity and run the code below to start the lasso. On the plot, left click to draw the lasso, and then right click to close the lasso and assign the charge."
   ]
  },
  {
   "cell_type": "markdown",
   "metadata": {},
   "source": [
    "If you're using an HDF5-format LMA data file, the analyzed charge is automatically written to the HDF5 file. The results of the operation can be queried by looking for the points that have had their charge set to the value defined above."
   ]
  },
  {
   "cell_type": "code",
   "execution_count": null,
   "metadata": {
    "collapsed": false
   },
   "outputs": [],
   "source": [
    "chg = d.data['charge']\n",
    "wh = np.where(chg > 0)\n",
    "print d.data[wh]['time']"
   ]
  },
  {
   "cell_type": "markdown",
   "metadata": {},
   "source": [
    "Color by...\n",
    "-----------\n",
    "In addition to coloring the scatter plots by time, it's possible to use other values in the LMA data array."
   ]
  },
  {
   "cell_type": "code",
   "execution_count": null,
   "metadata": {
    "collapsed": false
   },
   "outputs": [],
   "source": [
    "# A reference to the current data in the view is cached by the charge lasso.\n",
    "current_data = charge_lasso.cache_segment.cache[-1]\n",
    "# Manually set the color limits on the flash_id variable\n",
    "scatter_ctrl.default_color_bounds.flash_id =(current_data['flash_id'].min(), current_data['flash_id'].max())\n",
    "# Color by flash ID.\n",
    "scatter_ctrl.color_field = 'flash_id'\n",
    "\n",
    "redraw()"
   ]
  },
  {
   "cell_type": "markdown",
   "metadata": {},
   "source": [
    "Flash statistics\n",
    "----------------\n",
    "\n",
    "If the LMA controller found flash data, then it's possible to get a live update of flashes in the current view. <code>current_events_flashes</code> is an analysis pipeline branchpoint, which will send events and flashes to another analysis pipeline segment that can be specified with <code>current_events_flashes.targets.add(target)</code>. Behind the scenes, it's hooked up to an segment that receives the events and flashes, and prints the average flash area of all flashes that have more than a threshold number of points.\n",
    "\n",
    "Change the view a few times and you'll see updated flash stats below."
   ]
  },
  {
   "cell_type": "code",
   "execution_count": null,
   "metadata": {
    "collapsed": false
   },
   "outputs": [],
   "source": [
    "current_events_flashes = lma_ctrl.flash_stats_for_dataset(d, scatter_ctrl.branchpoint)"
   ]
  },
  {
   "cell_type": "code",
   "execution_count": null,
   "metadata": {
    "collapsed": false
   },
   "outputs": [],
   "source": []
  },
  {
   "cell_type": "markdown",
   "metadata": {},
   "source": [
    "Flash volume for current sources\n",
    "--------------------------------\n",
    "\n"
   ]
  },
  {
   "cell_type": "code",
   "execution_count": null,
   "metadata": {
    "collapsed": false
   },
   "outputs": [],
   "source": [
    "from scipy.spatial import Delaunay\n",
    "from scipy.misc import factorial\n",
    "\n",
    "from stormdrain.pipeline import coroutine\n",
    "class LMAEventStats(object):\n",
    "    \n",
    "    def __init__(self, GeoSys):\n",
    "        \"\"\" GeoSys is an instance of\n",
    "            stormdrain.support.coords.systems.GeographicSystem instance\n",
    "        \"\"\"\n",
    "        self.GeoSys = GeoSys\n",
    "    \n",
    "    def ECEF_coords(self, lon, lat, alt):\n",
    "        x,y,z = self.GeoSys.toECEF(lon, lat, alt)\n",
    "        return x,y,z\n",
    "    \n",
    "    \n",
    "    def _hull_volume(self):\n",
    "        tri = Delaunay(self.xyzt[:,0:3])\n",
    "        vertices = tri.points[tri.vertices]\n",
    "        \n",
    "        # This is the volume formula in \n",
    "        # https://github.com/scipy/scipy/blob/master/scipy/spatial/tests/test_qhull.py#L106\n",
    "        # Except the formula needs to be divided by ndim! to get the volume, cf., \n",
    "        # http://en.wikipedia.org/wiki/Simplex#Geometric_properties\n",
    "        # Credit Pauli Virtanen, Oct 14, 2012, scipy-user list\n",
    "        q = vertices[:,:-1,:] - vertices[:,-1,None,:]\n",
    "        simplex_volumes = (1.0 / factorial(q.shape[-1])) * np.fromiter(\n",
    "                (np.linalg.det(q[k,:,:]) for k in range(tri.nsimplex)) , dtype=float)\n",
    "        self.tri = tri\n",
    "        \n",
    "        # The simplex volumes have negative values since they are oriented \n",
    "        # (think surface normal direction for a triangle\n",
    "        self.volume=np.sum(np.abs(simplex_volumes))\n",
    "        \n",
    "    \n",
    "    @coroutine\n",
    "    def events_flashes_receiver(self):\n",
    "        while True:\n",
    "            evs, fls = (yield)\n",
    "            x,y,z = self.ECEF_coords(evs['lon'], evs['lat'], evs['alt'])\n",
    "            t = evs['time']\n",
    "            self.xyzt = np.vstack((x,y,z,t)).T\n",
    "            self._hull_volume()\n",
    "            print \"Volume of hull of points in current view is {0:5.1f}\".format(\n",
    "                        self.volume / 1.0e9) # (1000 m)^3\n",
    "    \n",
    "    "
   ]
  },
  {
   "cell_type": "code",
   "execution_count": null,
   "metadata": {
    "collapsed": false
   },
   "outputs": [],
   "source": [
    "stats = LMAEventStats(panels.cs.geoProj)\n",
    "stat_maker = stats.events_flashes_receiver()"
   ]
  },
  {
   "cell_type": "code",
   "execution_count": null,
   "metadata": {
    "collapsed": false
   },
   "outputs": [],
   "source": [
    "current_events_flashes.targets.add(stat_maker)"
   ]
  },
  {
   "cell_type": "code",
   "execution_count": null,
   "metadata": {
    "collapsed": false
   },
   "outputs": [],
   "source": [
    "print current_events_flashes.targets"
   ]
  },
  {
   "cell_type": "markdown",
   "metadata": {},
   "source": [
    "### Leader speed analysis\n",
    "\n",
    "Run the cell below after adjusting the plot to plot the distance with time from the first point. \n",
    "\n",
    "- Negative leaders: $10^5$ m/s (Behnke et al., 2005, GRL)\n",
    "- Positive leaders: $10^4$ m/s (Williams 2008 ICAE, after Les Renardières Group 1977, 81)"
   ]
  },
  {
   "cell_type": "code",
   "execution_count": null,
   "metadata": {
    "collapsed": true
   },
   "outputs": [],
   "source": [
    "import scipy.spatial.distance as distance\n",
    "all_dist_pairs = distance.pdist(stats.xyzt[:,0:2])\n",
    "sqd=distance.squareform(all_dist_pairs)\n",
    "sqd.shape\n",
    "\n",
    "shift_t  = stats.xyzt[:,3]-stats.xyzt[0,3]\n",
    "\n",
    "fig = plt.figure()\n",
    "ax=fig.add_subplot(111)\n",
    "ax.scatter(shift_t, sqd[0,:], cmap='viridis')\n",
    "t0, t1 = shift_t.min(), shift_t.max()\n",
    "d0 = 0.0\n",
    "d_c = 3.0e8*(t1-t0)\n",
    "d_8 = 1.0e8*(t1-t0)\n",
    "d_7 = 1.0e7*(t1-t0)\n",
    "d_6 = 1.0e6*(t1-t0)\n",
    "d_5 = 1.0e5*(t1-t0)\n",
    "d_4 = 1.0e4*(t1-t0)\n",
    "# ax.plot((t0, t1), (d0, d_c), label='c')\n",
    "# ax.plot((t0, t1), (d0, d_8), label='1e8')\n",
    "# ax.plot((t0, t1), (d0, d_7), label='1e7')\n",
    "# ax.plot((t0, t1), (d0, d_6), label='1e6')\n",
    "ax.plot((t0, t1), (d0, d_5), label='1e5')\n",
    "ax.plot((t0, t1), (d0, d_4), label='1e4')\n",
    "ax.legend()"
   ]
  },
  {
   "cell_type": "markdown",
   "metadata": {},
   "source": [
    "3D visualization of current sources with Mayavi\n",
    "-----------------------------------------------\n",
    "\n",
    "This will receive the events and flashes from the current 2D view, and update an interactive 3D view.\n",
    "\n",
    "It should be possible to use the scatter_ctrl.branchpoint and the mappablerangeupdater setup by scatter_ctrl instead of the raw events flashes. This would permit synchronization with the same vmin, vmax, which is already being figured out."
   ]
  },
  {
   "cell_type": "code",
   "execution_count": null,
   "metadata": {
    "collapsed": false
   },
   "outputs": [],
   "source": [
    "from brawl4d.brawl4d import redraw\n",
    "import mayavi.mlab as mvlab\n",
    "from stormdrain.pipeline import coroutine\n",
    "class MayaviOutlet(object):\n",
    "    def __init__(self, panels, ev_fl_broadcaster):\n",
    "        self.ev_fl_broadcaster = ev_fl_broadcaster\n",
    "        self.ev_fl_broadcaster.targets.add(self.rx())\n",
    "        self.p3d = mvlab.points3d([0], [0], [0], [0], scale_factor=5e-5)\n",
    "        self.scene = self.p3d.scene\n",
    "        self.scene.background = (0,0,0)\n",
    "        self.panels=panels\n",
    "        \n",
    "        # Force a reflow of data\n",
    "        redraw(panels)\n",
    "        \n",
    "        # move camera to see everything after data are plotted\n",
    "        self.scene.reset_zoom()\n",
    "        \n",
    "    @coroutine\n",
    "    def rx(self):\n",
    "        while True:\n",
    "            ev, fl = (yield)\n",
    "#             self.ev = ev\n",
    "#             self.fl = fl\n",
    "            evx, evy, evz, evt = ev['x'], ev['y'], ev['z'], ev['time']\n",
    "            self.p3d.mlab_source.reset(x=evx, y=evy, z=evz, scalars=evt)\n",
    "            \n",
    "current_events_flashes = lma_ctrl.flash_stats_for_dataset(d, scatter_ctrl.branchpoint)\n",
    "mvo = MayaviOutlet(panels, current_events_flashes)"
   ]
  },
  {
   "cell_type": "code",
   "execution_count": null,
   "metadata": {
    "collapsed": false
   },
   "outputs": [],
   "source": [
    "mvo.p3d.scene.reset_zoom?"
   ]
  },
  {
   "cell_type": "code",
   "execution_count": null,
   "metadata": {
    "collapsed": false
   },
   "outputs": [],
   "source": [
    "panels.bounds.limits()"
   ]
  },
  {
   "cell_type": "code",
   "execution_count": null,
   "metadata": {
    "collapsed": false
   },
   "outputs": [],
   "source": []
  }
 ],
 "metadata": {
  "kernelspec": {
   "display_name": "Python 2",
   "language": "python",
   "name": "python2"
  },
  "language_info": {
   "codemirror_mode": {
    "name": "ipython",
    "version": 2
   },
   "file_extension": ".py",
   "mimetype": "text/x-python",
   "name": "python",
   "nbconvert_exporter": "python",
   "pygments_lexer": "ipython2",
   "version": "2.7.12"
  }
 },
 "nbformat": 4,
 "nbformat_minor": 0
}
