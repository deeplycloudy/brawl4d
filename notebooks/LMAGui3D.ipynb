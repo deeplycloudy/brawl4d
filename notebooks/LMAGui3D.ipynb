{
 "metadata": {
  "name": "",
  "signature": "sha256:4bc3b2d123ce5c55f02e6e316b3d5cafbde3873d58d6e0486afb0b7b236f157c"
 },
 "nbformat": 3,
 "nbformat_minor": 0,
 "worksheets": [
  {
   "cells": [
    {
     "cell_type": "markdown",
     "metadata": {},
     "source": [
      "Reproducible LMA research with the IPython notebook and brawl4d\n",
      "===============================================================\n",
      "\n",
      "This notebook demonstrates how to download and display data from the <a href=\"http://www.eol.ucar.edu/projects/dc3/\">NSF-sponsored Deep Convective Clouds and Chemistry campaign</a>.\n",
      "\n",
      "To download data, go to the <a href=\"http://data.eol.ucar.edu/master_list/?project=DC3\">DC3 data archive</a> and choose one of the LMA datasets. This example will assume use of the LMA VHF source and flash data on June 4, 2012 from 2050-2100 UTC from West Texas, as retrieved using the <a href=\"http://data.eol.ucar.edu/cgi-bin/codiac/fgr_form/id=353.088\">DC3 data download form</a>.\n",
      "\n",
      "**Note: the hour of data below is 960 MB, so caveat downloader**. Try just the 2050--2100 interval.\n",
      "\n",
      "Running the code below is some basic boilerplate.\n",
      "\n",
      "**note: some issues exist due to issues with the lasso tool in pylab, the matplotlib qt4 backend works but may take a couple tries to run the browser."
     ]
    },
    {
     "cell_type": "code",
     "collapsed": true,
     "input": [
      "%matplotlib qt4\n",
      "import matplotlib\n",
      "#matplotlib.use('Qt4Agg')\n",
      "#import matplotlib.pyplot as plt\n",
      "from brawl4d.brawl4d import B4D_startup, redraw\n",
      "\n",
      "\n"
     ],
     "language": "python",
     "metadata": {},
     "outputs": [
      {
       "output_type": "stream",
       "stream": "stderr",
       "text": [
        "/Users/ebruning/anaconda/lib/python2.7/site-packages/matplotlib/__init__.py:1155: UserWarning:  This call to matplotlib.use() has no effect\n",
        "because the backend has already been chosen;\n",
        "matplotlib.use() must be called *before* pylab, matplotlib.pyplot,\n",
        "or matplotlib.backends is imported for the first time.\n",
        "\n",
        "  warnings.warn(_use_error_msg)\n"
       ]
      }
     ],
     "prompt_number": 1
    },
    {
     "cell_type": "markdown",
     "metadata": {},
     "source": [
      "In the cell below, note that the basedate has been set to match the dataset we downloaded above.\n",
      "\n",
      "If you are not using data from the WTLMA, then you'll also need to pass <code>ctr_lon=value</code> and <code>ctr_lat=value</code> to B4D_startup."
     ]
    },
    {
     "cell_type": "code",
     "collapsed": false,
     "input": [
      "from datetime import datetime\n",
      "panels = B4D_startup(basedate=datetime(2013,6,6), ctr_lat=33.5, ctr_lon=-101.5)"
     ],
     "language": "python",
     "metadata": {},
     "outputs": [
      {
       "output_type": "stream",
       "stream": "stderr",
       "text": [
        "/Users/ebruning/anaconda/lib/python2.7/site-packages/matplotlib/font_manager.py:1236: UserWarning: findfont: Font family ['Helvetica'] not found. Falling back to Bitstream Vera Sans\n",
        "  (prop.get_family(), self.defaultFamily[fontext]))\n"
       ]
      }
     ],
     "prompt_number": 2
    },
    {
     "cell_type": "markdown",
     "metadata": {},
     "source": [
      "Below, set a valid path to <code>lma_file</code>. The IPython notebook will try to tab-complete paths."
     ]
    },
    {
     "cell_type": "code",
     "collapsed": false,
     "input": [
      "from brawl4d.LMA.controller import LMAController\n",
      "lma_file = '/data/20130606/LMA/LYLOUT_130606_033000_0600.dat.flash.h5'\n",
      "lma_ctrl = LMAController()\n",
      "d, post_filter_brancher, scatter_ctrl, charge_lasso = lma_ctrl.load_hdf5_to_panels(panels, lma_file)"
     ],
     "language": "python",
     "metadata": {},
     "outputs": [
      {
       "output_type": "stream",
       "stream": "stdout",
       "text": [
        "found flash data\n"
       ]
      }
     ],
     "prompt_number": 4
    },
    {
     "cell_type": "markdown",
     "metadata": {},
     "source": [
      "Zoom in on a few cells of interest. The smaller, western and northern cells here are anomalously electrified, while the larger cluster is normally electrified."
     ]
    },
    {
     "cell_type": "code",
     "collapsed": false,
     "input": [
      "panels.panels['tz'].axis((3*3600 + 30*60, 3*3600 + 30*60+5, 1, 15))\n",
      "panels.panels['xy'].axis((-100, 0, 0, 90))"
     ],
     "language": "python",
     "metadata": {},
     "outputs": [
      {
       "metadata": {},
       "output_type": "pyout",
       "prompt_number": 5,
       "text": [
        "(-100, 0, 0, 90)"
       ]
      }
     ],
     "prompt_number": 5
    },
    {
     "cell_type": "markdown",
     "metadata": {},
     "source": [
      "The following cell contains and combines all functions of Brawl4d into a single .py file. This allows all tools to be activiated simultaneously, while also enabling a centralized container for all active widgets for convienence.\n",
      "\n",
      "<b><u>LMA Tools Contained:</u></b>\n",
      "\n",
      "<i>Number of Stations:</i> Specify accordingly with data file (min=1; max=11)\n",
      "\n",
      "<i>Max Chi2:</i>           Values for chi2 obtained from the data file (min=0.0; max=1.0)\n",
      "\n",
      "<i>Charge Selection:</i>   Selection for Negative (-1), Neutral (0), and Positive (1) charge for charge selection and analyzation in the               browser. The draw button activates the lasso tool                             enabling charge selection; re-clicking the draw button is                     necessary upon each selection made.\n",
      "\n",
      "<i>Color By:</i>           Allows the display of LMA data by chi2, time, or charge; selecting one will redraw the plot in the browser.\n",
      "\n",
      "<i>Animation Time:</i>     Allows for animation of the LMA data in the browser for charge polarity determination made by Charge Selection.            The slider allows the user to select a desired time for                       total animation duration (min=1s, max=30s). Clicking                         Animate will then animate the data after a desired time                       has been selected.\n"
     ]
    },
    {
     "cell_type": "code",
     "collapsed": false,
     "input": [
      "from brawl4d.LMA.widgets import LMAwidgetController\n",
      "from IPython.display import display\n",
      "from brawl4d.LMA.controller import LMAController\n",
      "\n",
      "lma_tools = LMAwidgetController(panels, lma_ctrl, scatter_ctrl, charge_lasso, d)\n",
      "display(lma_tools.tools_popup)\n"
     ],
     "language": "python",
     "metadata": {},
     "outputs": [
      {
       "output_type": "stream",
       "stream": "stdout",
       "text": [
        "\n",
        "15 of 24 flashes have > 10 points. Their average area =  47.4 km^2\n"
       ]
      },
      {
       "output_type": "stream",
       "stream": "stdout",
       "text": [
        "15 of 24 flashes have > 10 points. Their average area =  47.4 km^2\n",
        "15 of 24 flashes have > 10 points. Their average area =  47.4 km^2\n",
        "15 of 24 flashes have > 10 points. Their average area =  47.4 km^2"
       ]
      },
      {
       "output_type": "stream",
       "stream": "stdout",
       "text": [
        "\n",
        "15 of 24 flashes have > 10 points. Their average area =  47.4 km^2"
       ]
      },
      {
       "output_type": "stream",
       "stream": "stdout",
       "text": [
        "\n"
       ]
      }
     ],
     "prompt_number": 6
    },
    {
     "cell_type": "markdown",
     "metadata": {},
     "source": [
      "<script>\n",
      "import jsondata = tools_popup\n",
      "js = \"\"\"window.audiencePopup.data = JSON.parse('{0}');\"\"\".format(json.dumps(data))\n",
      "display(Javascript(js))\n",
      "</script>"
     ]
    },
    {
     "cell_type": "markdown",
     "metadata": {},
     "source": [
      "Charge analysis\n",
      "---------------\n",
      "It's possible to use a lasso to classify charge regions inferred from LMA data. Set the polarity and run the code below to start the lasso. On the plot, left click to draw the lasso, and then right click to close the lasso and assign the charge."
     ]
    },
    {
     "cell_type": "markdown",
     "metadata": {},
     "source": [
      "If you're using an HDF5-format LMA data file, the analyzed charge is automatically written to the HDF5 file. The results of the operation can be queried by looking for the points that have had their charge set to the value defined above."
     ]
    },
    {
     "cell_type": "code",
     "collapsed": false,
     "input": [
      "chg = d.data['charge']\n",
      "wh = np.where(chg > 0)\n",
      "print d.data[wh]['time']"
     ],
     "language": "python",
     "metadata": {},
     "outputs": [
      {
       "output_type": "stream",
       "stream": "stdout",
       "text": [
        "[ 12611.22600217  12611.3120399   12611.30892055 ...,  13193.44423766\n",
        "  13193.44017365  13193.45137127]\n"
       ]
      }
     ],
     "prompt_number": 21
    },
    {
     "cell_type": "markdown",
     "metadata": {},
     "source": [
      "Color by...\n",
      "-----------\n",
      "In addition to coloring the scatter plots by time, it's possible to use other values in the LMA data array."
     ]
    },
    {
     "cell_type": "code",
     "collapsed": false,
     "input": [
      "# A reference to the current data in the view is cached by the charge lasso.\n",
      "current_data = charge_lasso.cache_segment.cache[-1]\n",
      "# Manually set the color limits on the flash_id variable\n",
      "scatter_ctrl.default_color_bounds.flash_id =(current_data['flash_id'].min(), current_data['flash_id'].max())\n",
      "# Color by flash ID.\n",
      "scatter_ctrl.color_field = 'flash_id'\n",
      "\n",
      "redraw()"
     ],
     "language": "python",
     "metadata": {},
     "outputs": [],
     "prompt_number": 11
    },
    {
     "cell_type": "markdown",
     "metadata": {},
     "source": [
      "Flash statistics\n",
      "----------------\n",
      "\n",
      "If the LMA controller found flash data, then it's possible to get a live update of flashes in the current view. <code>current_events_flashes</code> is an analysis pipeline branchpoint, which will send events and flashes to another analysis pipeline segment that can be specified with <code>current_events_flashes.targets.add(target)</code>. Behind the scenes, it's hooked up to an segment that receives the events and flashes, and prints the average flash area of all flashes that have more than a threshold number of points.\n",
      "\n",
      "Change the view a few times and you'll see updated flash stats below."
     ]
    },
    {
     "cell_type": "code",
     "collapsed": false,
     "input": [
      "current_events_flashes = lma_ctrl.flash_stats_for_dataset(d, scatter_ctrl.branchpoint)"
     ],
     "language": "python",
     "metadata": {},
     "outputs": [],
     "prompt_number": 11
    },
    {
     "cell_type": "code",
     "collapsed": false,
     "input": [],
     "language": "python",
     "metadata": {},
     "outputs": [],
     "prompt_number": 7
    },
    {
     "cell_type": "markdown",
     "metadata": {},
     "source": [
      "Flash volume for current sources\n",
      "--------------------------------\n",
      "\n"
     ]
    },
    {
     "cell_type": "code",
     "collapsed": false,
     "input": [
      "from scipy.spatial import Delaunay\n",
      "from scipy.misc import factorial\n",
      "\n",
      "from stormdrain.pipeline import coroutine\n",
      "class LMAEventStats(object):\n",
      "    \n",
      "    def __init__(self, GeoSys):\n",
      "        \"\"\" GeoSys is an instance of\n",
      "            stormdrain.support.coords.systems.GeographicSystem instance\n",
      "        \"\"\"\n",
      "        self.GeoSys = GeoSys\n",
      "    \n",
      "    def ECEF_coords(self, lon, lat, alt):\n",
      "        x,y,z = self.GeoSys.toECEF(lon, lat, alt)\n",
      "        return x,y,z\n",
      "    \n",
      "    \n",
      "    def _hull_volume(self):\n",
      "        tri = Delaunay(self.xyzt[:,0:3])\n",
      "        vertices = tri.points[tri.vertices]\n",
      "        \n",
      "        # This is the volume formula in \n",
      "        # https://github.com/scipy/scipy/blob/master/scipy/spatial/tests/test_qhull.py#L106\n",
      "        # Except the formula needs to be divided by ndim! to get the volume, cf., \n",
      "        # http://en.wikipedia.org/wiki/Simplex#Geometric_properties\n",
      "        # Credit Pauli Virtanen, Oct 14, 2012, scipy-user list\n",
      "        q = vertices[:,:-1,:] - vertices[:,-1,None,:]\n",
      "        simplex_volumes = (1.0 / factorial(q.shape[-1])) * np.fromiter(\n",
      "                (np.linalg.det(q[k,:,:]) for k in range(tri.nsimplex)) , dtype=float)\n",
      "        self.tri = tri\n",
      "        \n",
      "        # The simplex volumes have negative values since they are oriented \n",
      "        # (think surface normal direction for a triangle\n",
      "        self.volume=np.sum(np.abs(simplex_volumes))\n",
      "        \n",
      "    \n",
      "    @coroutine\n",
      "    def events_flashes_receiver(self):\n",
      "        while True:\n",
      "            evs, fls = (yield)\n",
      "            x,y,z = self.ECEF_coords(evs['lon'], evs['lat'], evs['alt'])\n",
      "            t = evs['time']\n",
      "            self.xyzt = np.vstack((x,y,z,t)).T\n",
      "            self._hull_volume()\n",
      "            print \"Volume of hull of points in current view is {0:5.1f}\".format(\n",
      "                        self.volume / 1.0e9) # (1000 m)^3\n",
      "    \n",
      "    "
     ],
     "language": "python",
     "metadata": {},
     "outputs": [],
     "prompt_number": 8
    },
    {
     "cell_type": "code",
     "collapsed": false,
     "input": [
      "stats = LMAEventStats(panels.cs.geoProj)\n",
      "stat_maker = stats.events_flashes_receiver()"
     ],
     "language": "python",
     "metadata": {},
     "outputs": [
      {
       "ename": "NameError",
       "evalue": "name 'LMAEventStats' is not defined",
       "output_type": "pyerr",
       "traceback": [
        "\u001b[0;31m---------------------------------------------------------------------------\u001b[0m\n\u001b[0;31mNameError\u001b[0m                                 Traceback (most recent call last)",
        "\u001b[0;32m<ipython-input-8-55d009cce0e5>\u001b[0m in \u001b[0;36m<module>\u001b[0;34m()\u001b[0m\n\u001b[0;32m----> 1\u001b[0;31m \u001b[0mstats\u001b[0m \u001b[0;34m=\u001b[0m \u001b[0mLMAEventStats\u001b[0m\u001b[0;34m(\u001b[0m\u001b[0mpanels\u001b[0m\u001b[0;34m.\u001b[0m\u001b[0mcs\u001b[0m\u001b[0;34m.\u001b[0m\u001b[0mgeoProj\u001b[0m\u001b[0;34m)\u001b[0m\u001b[0;34m\u001b[0m\u001b[0m\n\u001b[0m\u001b[1;32m      2\u001b[0m \u001b[0mstat_maker\u001b[0m \u001b[0;34m=\u001b[0m \u001b[0mstats\u001b[0m\u001b[0;34m.\u001b[0m\u001b[0mevents_flashes_receiver\u001b[0m\u001b[0;34m(\u001b[0m\u001b[0;34m)\u001b[0m\u001b[0;34m\u001b[0m\u001b[0m\n",
        "\u001b[0;31mNameError\u001b[0m: name 'LMAEventStats' is not defined"
       ]
      },
      {
       "output_type": "stream",
       "stream": "stdout",
       "text": [
        "0 of 0 flashes have > 10 points. Their average area =   nan km^2\n",
        "0 of 0 flashes have > 10 points. Their average area =   nan km^2"
       ]
      },
      {
       "output_type": "stream",
       "stream": "stdout",
       "text": [
        "\n",
        "0 of 0 flashes have > 10 points. Their average area =   nan km^2"
       ]
      },
      {
       "output_type": "stream",
       "stream": "stdout",
       "text": [
        "\n",
        "0 of 0 flashes have > 10 points. Their average area =   nan km^2"
       ]
      },
      {
       "output_type": "stream",
       "stream": "stdout",
       "text": [
        "\n",
        "0 of 0 flashes have > 10 points. Their average area =   nan km^2"
       ]
      },
      {
       "output_type": "stream",
       "stream": "stdout",
       "text": [
        "\n",
        "0 of 0 flashes have > 10 points. Their average area =   nan km^2"
       ]
      },
      {
       "output_type": "stream",
       "stream": "stdout",
       "text": [
        "\n",
        "0 of 0 flashes have > 10 points. Their average area =   nan km^2"
       ]
      },
      {
       "output_type": "stream",
       "stream": "stdout",
       "text": [
        "\n",
        "0 of 0 flashes have > 10 points. Their average area =   nan km^2"
       ]
      },
      {
       "output_type": "stream",
       "stream": "stdout",
       "text": [
        "\n",
        "0 of 0 flashes have > 10 points. Their average area =   nan km^2"
       ]
      },
      {
       "output_type": "stream",
       "stream": "stdout",
       "text": [
        "\n",
        "0 of 0 flashes have > 10 points. Their average area =   nan km^2"
       ]
      },
      {
       "output_type": "stream",
       "stream": "stdout",
       "text": [
        "\n",
        "0 of 0 flashes have > 10 points. Their average area =   nan km^2"
       ]
      },
      {
       "output_type": "stream",
       "stream": "stdout",
       "text": [
        "\n",
        "0 of 0 flashes have > 10 points. Their average area =   nan km^2"
       ]
      },
      {
       "output_type": "stream",
       "stream": "stdout",
       "text": [
        "\n",
        "0 of 0 flashes have > 10 points. Their average area =   nan km^2"
       ]
      },
      {
       "output_type": "stream",
       "stream": "stdout",
       "text": [
        "\n",
        "0 of 0 flashes have > 10 points. Their average area =   nan km^2"
       ]
      },
      {
       "output_type": "stream",
       "stream": "stdout",
       "text": [
        "\n",
        "0 of 0 flashes have > 10 points. Their average area =   nan km^2"
       ]
      },
      {
       "output_type": "stream",
       "stream": "stdout",
       "text": [
        "\n",
        "0 of 0 flashes have > 10 points. Their average area =   nan km^2"
       ]
      },
      {
       "output_type": "stream",
       "stream": "stdout",
       "text": [
        "\n",
        "0 of 0 flashes have > 10 points. Their average area =   nan km^2"
       ]
      },
      {
       "output_type": "stream",
       "stream": "stdout",
       "text": [
        "\n",
        "0 of 0 flashes have > 10 points. Their average area =   nan km^2"
       ]
      },
      {
       "output_type": "stream",
       "stream": "stdout",
       "text": [
        "\n",
        "0 of 0 flashes have > 10 points. Their average area =   nan km^2"
       ]
      },
      {
       "output_type": "stream",
       "stream": "stdout",
       "text": [
        "\n",
        "0 of 0 flashes have > 10 points. Their average area =   nan km^2"
       ]
      },
      {
       "output_type": "stream",
       "stream": "stdout",
       "text": [
        "\n",
        "0 of 0 flashes have > 10 points. Their average area =   nan km^2"
       ]
      },
      {
       "output_type": "stream",
       "stream": "stdout",
       "text": [
        "\n",
        "0 of 0 flashes have > 10 points. Their average area =   nan km^2"
       ]
      },
      {
       "output_type": "stream",
       "stream": "stdout",
       "text": [
        "\n",
        "0 of 0 flashes have > 10 points. Their average area =   nan km^2"
       ]
      }
     ],
     "prompt_number": 8
    },
    {
     "cell_type": "code",
     "collapsed": false,
     "input": [
      "current_events_flashes.targets.add(stat_maker)"
     ],
     "language": "python",
     "metadata": {},
     "outputs": [
      {
       "ename": "NameError",
       "evalue": "name 'stat_maker' is not defined",
       "output_type": "pyerr",
       "traceback": [
        "\u001b[0;31m---------------------------------------------------------------------------\u001b[0m\n\u001b[0;31mNameError\u001b[0m                                 Traceback (most recent call last)",
        "\u001b[0;32m<ipython-input-9-d23ded327a4a>\u001b[0m in \u001b[0;36m<module>\u001b[0;34m()\u001b[0m\n\u001b[0;32m----> 1\u001b[0;31m \u001b[0mcurrent_events_flashes\u001b[0m\u001b[0;34m.\u001b[0m\u001b[0mtargets\u001b[0m\u001b[0;34m.\u001b[0m\u001b[0madd\u001b[0m\u001b[0;34m(\u001b[0m\u001b[0mstat_maker\u001b[0m\u001b[0;34m)\u001b[0m\u001b[0;34m\u001b[0m\u001b[0m\n\u001b[0m",
        "\u001b[0;31mNameError\u001b[0m: name 'stat_maker' is not defined"
       ]
      }
     ],
     "prompt_number": 9
    },
    {
     "cell_type": "code",
     "collapsed": false,
     "input": [
      "print current_events_flashes.targets"
     ],
     "language": "python",
     "metadata": {},
     "outputs": [
      {
       "output_type": "stream",
       "stream": "stdout",
       "text": [
        "set([<generator object flash_stat_printer at 0x10d7a50a0>])\n"
       ]
      },
      {
       "output_type": "stream",
       "stream": "stdout",
       "text": [
        "0 of 0 flashes have > 10 points. Their average area =   nan km^2\n",
        "0 of 0 flashes have > 10 points. Their average area =   nan km^2"
       ]
      },
      {
       "output_type": "stream",
       "stream": "stdout",
       "text": [
        "\n",
        "0 of 0 flashes have > 10 points. Their average area =   nan km^2"
       ]
      },
      {
       "output_type": "stream",
       "stream": "stdout",
       "text": [
        "\n",
        "0 of 0 flashes have > 10 points. Their average area =   nan km^2"
       ]
      },
      {
       "output_type": "stream",
       "stream": "stdout",
       "text": [
        "\n",
        "0 of 0 flashes have > 10 points. Their average area =   nan km^2"
       ]
      },
      {
       "output_type": "stream",
       "stream": "stdout",
       "text": [
        "\n",
        "0 of 0 flashes have > 10 points. Their average area =   nan km^2"
       ]
      },
      {
       "output_type": "stream",
       "stream": "stdout",
       "text": [
        "\n",
        "0 of 0 flashes have > 10 points. Their average area =   nan km^2"
       ]
      },
      {
       "output_type": "stream",
       "stream": "stdout",
       "text": [
        "\n",
        "0 of 0 flashes have > 10 points. Their average area =   nan km^2"
       ]
      },
      {
       "output_type": "stream",
       "stream": "stdout",
       "text": [
        "\n",
        "0 of 0 flashes have > 10 points. Their average area =   nan km^2"
       ]
      },
      {
       "output_type": "stream",
       "stream": "stdout",
       "text": [
        "\n",
        "0 of 0 flashes have > 10 points. Their average area =   nan km^2"
       ]
      },
      {
       "output_type": "stream",
       "stream": "stdout",
       "text": [
        "\n",
        "0 of 0 flashes have > 10 points. Their average area =   nan km^2"
       ]
      },
      {
       "output_type": "stream",
       "stream": "stdout",
       "text": [
        "\n",
        "0 of 0 flashes have > 10 points. Their average area =   nan km^2"
       ]
      },
      {
       "output_type": "stream",
       "stream": "stdout",
       "text": [
        "\n",
        "0 of 0 flashes have > 10 points. Their average area =   nan km^2"
       ]
      }
     ],
     "prompt_number": 10
    },
    {
     "cell_type": "markdown",
     "metadata": {},
     "source": [
      "What if we take the points on the volumetric hull, and PCA decompose those? Will the envelope have a major axis that is more aligned along the plate area?"
     ]
    },
    {
     "cell_type": "markdown",
     "metadata": {},
     "source": [
      "Further analysis\n",
      "----------------\n",
      "\n",
      "If your analysis is hard to explain, maybe it would help to include an equation with LaTeX: $$y=x^2$$"
     ]
    },
    {
     "cell_type": "markdown",
     "metadata": {},
     "source": [
      "3D visualization of current sources with Mayavi\n",
      "-----------------------------------------------\n",
      "\n",
      "This will receive the events and flashes from the current 2D view, and update an interactive 3D view.\n",
      "\n",
      "It should be possible to use the scatter_ctrl.branchpoint and the mappablerangeupdater setup by scatter_ctrl instead of the raw events flashes. This would permit synchronization with the same vmin, vmax, which is already being figured out."
     ]
    },
    {
     "cell_type": "code",
     "collapsed": false,
     "input": [
      "import mayavi.mlab as mvlab\n",
      "from stormdrain.pipeline import coroutine\n",
      "class MayaviOutlet(object):\n",
      "    def __init__(self, ev_fl_broadcaster):\n",
      "        self.ev_fl_broadcaster = ev_fl_broadcaster\n",
      "        self.ev_fl_broadcaster.targets.add(self.rx())\n",
      "        self.p3d = mvlab.points3d(evx, evy, evz, evt, scale_factor=2e-5)\n",
      "    \n",
      "    @coroutine\n",
      "    def rx(self):\n",
      "        while True:\n",
      "            ev, fl = (yield)\n",
      "            self.ev = ev\n",
      "            self.fl = fl\n",
      "            evx, evy, evz, evt = ev['x'], ev['y'], ev['z'], ev['time']\n",
      "            self.p3d.mlab_source.reset(x=evx, y=evy, z=evz, scalars=evt)\n",
      "            \n",
      "current_events_flashes = lma_ctrl.flash_stats_for_dataset(d, scatter_ctrl.branchpoint)\n",
      "mvo = MayaviOutlet(current_events_flashes)"
     ],
     "language": "python",
     "metadata": {},
     "outputs": [],
     "prompt_number": 27
    },
    {
     "cell_type": "code",
     "collapsed": false,
     "input": [
      "scatter_ctrl??"
     ],
     "language": "python",
     "metadata": {},
     "outputs": [],
     "prompt_number": 29
    },
    {
     "cell_type": "code",
     "collapsed": false,
     "input": [],
     "language": "python",
     "metadata": {},
     "outputs": [],
     "prompt_number": 16
    },
    {
     "cell_type": "code",
     "collapsed": false,
     "input": [],
     "language": "python",
     "metadata": {},
     "outputs": []
    }
   ],
   "metadata": {}
  }
 ]
}